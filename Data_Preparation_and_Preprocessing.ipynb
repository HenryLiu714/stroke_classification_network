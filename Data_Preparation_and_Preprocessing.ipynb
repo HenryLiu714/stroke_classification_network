{
  "nbformat": 4,
  "nbformat_minor": 0,
  "metadata": {
    "colab": {
      "name": "EqualSet.ipynb",
      "provenance": [],
      "authorship_tag": "ABX9TyMAVEatsq5+/8uv0LGbsW0R"
    },
    "kernelspec": {
      "name": "python3",
      "display_name": "Python 3"
    },
    "language_info": {
      "name": "python"
    }
  },
  "cells": [
    {
      "cell_type": "code",
      "execution_count": null,
      "metadata": {
        "colab": {
          "base_uri": "https://localhost:8080/"
        },
        "id": "VwRd3AtZFPeZ",
        "outputId": "799e9760-12bd-47d8-82af-caa7e106244d"
      },
      "outputs": [
        {
          "output_type": "stream",
          "name": "stdout",
          "text": [
            "Requirement already satisfied: pydicom in /usr/local/lib/python3.7/dist-packages (2.2.2)\n",
            "Requirement already satisfied: pillow in /usr/local/lib/python3.7/dist-packages (7.1.2)\n",
            "Requirement already satisfied: pylibjpeg in /usr/local/lib/python3.7/dist-packages (1.4.0)\n",
            "Requirement already satisfied: pylibjpeg-libjpeg in /usr/local/lib/python3.7/dist-packages (1.3.0)\n",
            "Requirement already satisfied: pydicom in /usr/local/lib/python3.7/dist-packages (2.2.2)\n",
            "Requirement already satisfied: numpy in /usr/local/lib/python3.7/dist-packages (from pylibjpeg) (1.21.5)\n",
            "Requirement already satisfied: dicom in /usr/local/lib/python3.7/dist-packages (0.9.9.post1)\n"
          ]
        }
      ],
      "source": [
        "!pip install pydicom\n",
        "!pip install pillow\n",
        "!pip install pylibjpeg pylibjpeg-libjpeg pydicom\n",
        "!pip install dicom"
      ]
    },
    {
      "cell_type": "code",
      "source": [
        "!pip install --upgrade numpy"
      ],
      "metadata": {
        "colab": {
          "base_uri": "https://localhost:8080/"
        },
        "id": "jq_UQS77FS4l",
        "outputId": "2b9a7072-f8ed-4d2b-b967-66692e40bbe0"
      },
      "execution_count": null,
      "outputs": [
        {
          "output_type": "stream",
          "name": "stdout",
          "text": [
            "Requirement already satisfied: numpy in /usr/local/lib/python3.7/dist-packages (1.21.5)\n"
          ]
        }
      ]
    },
    {
      "cell_type": "code",
      "source": [
        "import numpy as np\n",
        "import matplotlib.pyplot as plt\n",
        "import os\n",
        "import cv2\n",
        "import PIL\n",
        "import pylibjpeg\n",
        "import nibabel as nib\n",
        "\n",
        "import pydicom as dicom\n",
        "\n",
        "from google.colab import drive\n",
        "drive.mount('/content/drive')"
      ],
      "metadata": {
        "colab": {
          "base_uri": "https://localhost:8080/"
        },
        "id": "f-Ot03a4JLtn",
        "outputId": "1479f41b-590b-4ea5-8940-f6f37e5c30b4"
      },
      "execution_count": null,
      "outputs": [
        {
          "output_type": "stream",
          "name": "stderr",
          "text": [
            "/usr/local/lib/python3.7/dist-packages/dicom/__init__.py:53: UserWarning: \n",
            "This code is using an older version of pydicom, which is no longer \n",
            "maintained as of Jan 2017.  You can access the new pydicom features and API \n",
            "by installing `pydicom` from PyPI.\n",
            "See 'Transitioning to pydicom 1.x' section at pydicom.readthedocs.org \n",
            "for more information.\n",
            "\n",
            "  warnings.warn(msg)\n"
          ]
        },
        {
          "output_type": "stream",
          "name": "stdout",
          "text": [
            "Mounted at /content/drive\n"
          ]
        }
      ]
    },
    {
      "cell_type": "code",
      "source": [
        "ISCH_DIRECTORY = \"/content/drive/MyDrive/Stem Proyectp/Ischemic_Training\"\n",
        "HEM_DIRECTORY = \"/content/drive/MyDrive/Stem Proyectp/set2/Brain_Data_Organised/Stroke\"\n",
        "HEM_DIRECTORY2 = \"/content/drive/MyDrive/Stem Proyectp/Hemorrhage_Set_1\"\n",
        "NORMAL_DIRECTORY = \"/content/drive/MyDrive/Stem Proyectp/set2/Brain_Data_Organised/Normal\""
      ],
      "metadata": {
        "id": "fIaOcoEQFZ8A"
      },
      "execution_count": null,
      "outputs": []
    },
    {
      "cell_type": "code",
      "source": [
        "training_set = []\n",
        "IMG_SIZE = 256"
      ],
      "metadata": {
        "id": "LkSIfOfnIfK2"
      },
      "execution_count": null,
      "outputs": []
    },
    {
      "cell_type": "code",
      "source": [
        "def add_normal():\n",
        "  i = 0\n",
        "  \n",
        "  for item in os.listdir(NORMAL_DIRECTORY):\n",
        "    if i <= 250:\n",
        "      source = os.path.join(NORMAL_DIRECTORY, item)\n",
        "\n",
        "      img_array = cv2.imread(source, cv2.IMREAD_GRAYSCALE)\n",
        "      img_array2 = cv2.resize(img_array, (IMG_SIZE, IMG_SIZE))\n",
        "\n",
        "      img_array3 = img_array2 / 255.0\n",
        "\n",
        "      im = np.zeros(img_array3.shape)\n",
        "\n",
        "      for x in range(0, img_array3.shape[0]):\n",
        "        for y in range(0, img_array3.shape[1]):\n",
        "          im[x][y] = img_array3[x][y] * 255   \n",
        "\n",
        "      im = im.astype(np.uint8)\n",
        "      im2 = cv2.equalizeHist(im)\n",
        "\n",
        "      im3 = im2 / 255.0\n",
        "\n",
        "      training_set.append([im3, 0])\n",
        "      i += 1\n",
        "    else:\n",
        "      break"
      ],
      "metadata": {
        "id": "mC_QwUDDIgEY"
      },
      "execution_count": null,
      "outputs": []
    },
    {
      "cell_type": "code",
      "source": [
        "def add_hemorrhagic():\n",
        "  i = 0\n",
        "\n",
        "  for item in os.listdir(HEM_DIRECTORY):\n",
        "    if i <= 250:\n",
        "      source = os.path.join(HEM_DIRECTORY, item)\n",
        "\n",
        "      img_array = cv2.imread(source, cv2.IMREAD_GRAYSCALE)\n",
        "      img_array2 = cv2.resize(img_array, (IMG_SIZE, IMG_SIZE))\n",
        "      img_array3 = img_array2 / 255.0\n",
        "\n",
        "      im = np.zeros(img_array3.shape)\n",
        "\n",
        "      for x in range(0, img_array3.shape[0]):\n",
        "        for y in range(0, img_array3.shape[1]):\n",
        "          im[x][y] = img_array3[x][y] * 255   \n",
        "\n",
        "      im = im.astype(np.uint8)\n",
        "      im2 = cv2.equalizeHist(im)\n",
        "\n",
        "      im3 = im2 / 255.0\n",
        "\n",
        "      training_set.append([im3, 1])\n",
        "      i += 1\n",
        "    else:\n",
        "      break"
      ],
      "metadata": {
        "id": "7rzLoTc7I6_y"
      },
      "execution_count": null,
      "outputs": []
    },
    {
      "cell_type": "code",
      "source": [
        "def add_hemorrhagic2():\n",
        "  i = 0\n",
        "\n",
        "  for folder in os.listdir(HEM_DIRECTORY2):\n",
        "    dir1 = os.path.join(HEM_DIRECTORY2, folder)\n",
        "\n",
        "    for subfolder in os.listdir(dir1):\n",
        "      dir2 = os.path.join(dir1, subfolder)\n",
        "\n",
        "      for sub2folder in os.listdir(dir2):\n",
        "        dir3 = os.path.join(dir2, sub2folder)\n",
        "\n",
        "        for item in os.listdir(dir3):\n",
        "          if i <= 250:\n",
        "            source = os.path.join(dir3, item)\n",
        "\n",
        "            img = dicom.dcmread(source)\n",
        "            img_array = img.pixel_array\n",
        "\n",
        "            min = img_array.min()\n",
        "            img_array2 = np.zeros(img_array.shape)\n",
        "\n",
        "            add = 0 - min\n",
        "\n",
        "            for x in range(0, img_array.shape[0]):\n",
        "              for y in range (0, img_array.shape[1]):\n",
        "                img_array2[x][y] = img_array[x][y] + add\n",
        "\n",
        "            img_array3 = cv2.resize(img_array2, (IMG_SIZE, IMG_SIZE))\n",
        "            img_array4 = img_array3 / float(img_array3.max())\n",
        "\n",
        "            im = np.zeros(img_array4.shape)\n",
        "\n",
        "            for x in range(0, img_array4.shape[0]):\n",
        "              for y in range(0, img_array4.shape[1]):\n",
        "                im[x][y] = img_array4[x][y] * 255   \n",
        "\n",
        "            im = im.astype(np.uint8)\n",
        "            im2 = cv2.equalizeHist(im)\n",
        "\n",
        "            im3 = im2 / 255.0\n",
        "            \n",
        "            training_set.append([im3, 1])\n",
        "            i += 1\n",
        "          else:\n",
        "            return 0"
      ],
      "metadata": {
        "id": "BWag6XLbJSyP"
      },
      "execution_count": null,
      "outputs": []
    },
    {
      "cell_type": "code",
      "source": [
        "def add_ischemic():\n",
        "  for item in os.listdir(ISCH_DIRECTORY):\n",
        "    source = os.path.join(ISCH_DIRECTORY, item)\n",
        "\n",
        "    scan = nib.load(source)\n",
        "    scan_array = scan.get_fdata()\n",
        "    shape = scan_array.shape\n",
        "    slices = shape[2]\n",
        "\n",
        "    for i in range(0, slices):\n",
        "      img_array = np.array(scan_array[:, :, i])\n",
        "\n",
        "      minimum = img_array.min()\n",
        "      img_array2 = np.zeros(img_array.shape)\n",
        "\n",
        "      add = 0 - minimum\n",
        "      for x in range(0, img_array.shape[0]):\n",
        "        for y in range(0, img_array.shape[1]):\n",
        "          img_array2[x][y] = img_array[x][y] + add\n",
        "      \n",
        "      img_array3 = cv2.resize(img_array2, (IMG_SIZE, IMG_SIZE))\n",
        "      \n",
        "      img_array4 = img_array3 / float(img_array3.max())\n",
        "\n",
        "      im = np.zeros(img_array4.shape)\n",
        "\n",
        "      for x in range(0, img_array4.shape[0]):\n",
        "        for y in range(0, img_array4.shape[1]):\n",
        "          im[x][y] = img_array4[x][y] * 255   \n",
        "\n",
        "      im = im.astype(np.uint8)\n",
        "      im2 = cv2.equalizeHist(im)\n",
        "\n",
        "      im3 = im2 / 255.0\n",
        "\n",
        "      training_set.append([im3, 2])"
      ],
      "metadata": {
        "id": "AtWLW0naJBpl"
      },
      "execution_count": null,
      "outputs": []
    },
    {
      "cell_type": "code",
      "source": [
        "add_normal()\n",
        "print(len(training_set))\n",
        "add_hemorrhagic()\n",
        "print(len(training_set))\n",
        "add_hemorrhagic2()\n",
        "print(len(training_set))\n",
        "add_ischemic()\n",
        "print(len(training_set))"
      ],
      "metadata": {
        "id": "yRBDRIJ8JFD3",
        "colab": {
          "base_uri": "https://localhost:8080/"
        },
        "outputId": "4602008a-79bd-4682-d2e3-cd8d2d0e6b69"
      },
      "execution_count": null,
      "outputs": [
        {
          "output_type": "stream",
          "name": "stdout",
          "text": [
            "251\n",
            "502\n",
            "753\n",
            "1025\n"
          ]
        }
      ]
    },
    {
      "cell_type": "code",
      "source": [
        "import random\n",
        "\n",
        "random.shuffle(training_set)"
      ],
      "metadata": {
        "id": "c1NaeEXJKwNR"
      },
      "execution_count": null,
      "outputs": []
    },
    {
      "cell_type": "code",
      "source": [
        "print(len(training_set))"
      ],
      "metadata": {
        "colab": {
          "base_uri": "https://localhost:8080/"
        },
        "id": "8NnWvWT5XMwV",
        "outputId": "72cd7d26-d6e2-4b9b-b1f8-74631dd02d95"
      },
      "execution_count": null,
      "outputs": [
        {
          "output_type": "stream",
          "name": "stdout",
          "text": [
            "1025\n"
          ]
        }
      ]
    },
    {
      "cell_type": "code",
      "source": [
        "a = 47\n",
        "array = training_set[a][0]\n",
        "\n",
        "print(array.min())\n",
        "print(array.max())\n",
        "print(training_set[a][1])\n",
        "plt.imshow(array, cmap = 'gray')\n",
        "plt.show()"
      ],
      "metadata": {
        "colab": {
          "base_uri": "https://localhost:8080/",
          "height": 324
        },
        "id": "HcIxwf2OTn4Y",
        "outputId": "68aafd4e-6097-4f33-e0e3-e73f89174db2"
      },
      "execution_count": null,
      "outputs": [
        {
          "output_type": "stream",
          "name": "stdout",
          "text": [
            "0.0\n",
            "1.0\n",
            "0\n"
          ]
        },
        {
          "output_type": "display_data",
          "data": {
            "image/png": "[encoded data removed]",
            "text/plain": [
              "<Figure size 432x288 with 1 Axes>"
            ]
          },
          "metadata": {
            "needs_background": "light"
          }
        }
      ]
    },
    {
      "cell_type": "code",
      "source": [
        "set_features = []\n",
        "set_labels = []\n",
        "\n",
        "for features, labels in training_set:\n",
        "  set_features.append(features)\n",
        "  set_labels.append(labels)\n",
        "\n",
        "set_features = np.array(set_features).reshape(-1, IMG_SIZE, IMG_SIZE, 1)"
      ],
      "metadata": {
        "id": "sIBEGQZ4M79u"
      },
      "execution_count": null,
      "outputs": []
    },
    {
      "cell_type": "code",
      "source": [
        "set_labels = np.array(set_labels)"
      ],
      "metadata": {
        "id": "5AQwh528NAiH"
      },
      "execution_count": null,
      "outputs": []
    },
    {
      "cell_type": "code",
      "source": [
        "print(set_features[2])\n",
        "print(set_labels[2])\n",
        "print(set_features.shape)\n",
        "print(set_labels.shape)"
      ],
      "metadata": {
        "colab": {
          "base_uri": "https://localhost:8080/"
        },
        "id": "lZeZRf6cNCC0",
        "outputId": "63d2fb31-a85f-4a7b-a541-654679d16e55"
      },
      "execution_count": null,
      "outputs": [
        {
          "output_type": "stream",
          "name": "stdout",
          "text": [
            "[[[0.]\n",
            "  [0.]\n",
            "  [0.]\n",
            "  ...\n",
            "  [0.]\n",
            "  [0.]\n",
            "  [0.]]\n",
            "\n",
            " [[0.]\n",
            "  [0.]\n",
            "  [0.]\n",
            "  ...\n",
            "  [0.]\n",
            "  [0.]\n",
            "  [0.]]\n",
            "\n",
            " [[0.]\n",
            "  [0.]\n",
            "  [0.]\n",
            "  ...\n",
            "  [0.]\n",
            "  [0.]\n",
            "  [0.]]\n",
            "\n",
            " ...\n",
            "\n",
            " [[0.]\n",
            "  [0.]\n",
            "  [0.]\n",
            "  ...\n",
            "  [0.]\n",
            "  [0.]\n",
            "  [0.]]\n",
            "\n",
            " [[0.]\n",
            "  [0.]\n",
            "  [0.]\n",
            "  ...\n",
            "  [0.]\n",
            "  [0.]\n",
            "  [0.]]\n",
            "\n",
            " [[0.]\n",
            "  [0.]\n",
            "  [0.]\n",
            "  ...\n",
            "  [0.]\n",
            "  [0.]\n",
            "  [0.]]]\n",
            "0\n",
            "(1025, 256, 256, 1)\n",
            "(1025,)\n"
          ]
        }
      ]
    },
    {
      "cell_type": "code",
      "source": [
        "X = set_features\n",
        "y = set_labels"
      ],
      "metadata": {
        "id": "tdD4yxF8NDMz"
      },
      "execution_count": null,
      "outputs": []
    },
    {
      "cell_type": "code",
      "source": [
        "outfile = \"/content/drive/MyDrive/Stem Proyectp/Project/DataStorage/set3_features.npy\"\n",
        "outfile2 = \"/content/drive/MyDrive/Stem Proyectp/Project/DataStorage/set3_labels.npy\"\n",
        "\n",
        "np.save(outfile, X)\n",
        "np.save(outfile2, y)"
      ],
      "metadata": {
        "id": "TUda5JbTNmn0"
      },
      "execution_count": null,
      "outputs": []
    }
  ]
}