{
  "cells": [
    {
      "cell_type": "markdown",
      "source": [
        "# **Importing Packages**"
      ],
      "metadata": {
        "id": "2B0cAXkdtM0Z"
      }
    },
    {
      "cell_type": "code",
      "execution_count": null,
      "metadata": {
        "id": "yI626LZ0N0Bh"
      },
      "outputs": [],
      "source": [
        "import tensorflow as tf\n",
        "from tensorflow import keras\n",
        "from tensorflow.keras.models import Sequential\n",
        "from tensorflow.keras.layers import Dense, Dropout, Activation, Flatten, Conv2D, MaxPooling2D, AveragePooling2D\n",
        "import numpy as np\n",
        "import matplotlib.pyplot as plt\n",
        "\n",
        "from sklearn.model_selection import train_test_split"
      ]
    },
    {
      "cell_type": "code",
      "execution_count": null,
      "metadata": {
        "id": "hg8lyYwtN3Qo",
        "colab": {
          "base_uri": "https://localhost:8080/"
        },
        "outputId": "6b95ac25-887e-4091-b540-f3593ce1543c"
      },
      "outputs": [
        {
          "output_type": "stream",
          "name": "stdout",
          "text": [
            "Drive already mounted at /content/drive; to attempt to forcibly remount, call drive.mount(\"/content/drive\", force_remount=True).\n"
          ]
        }
      ],
      "source": [
        "from google.colab import drive\n",
        "drive.mount('/content/drive')"
      ]
    },
    {
      "cell_type": "markdown",
      "source": [
        "# **Loading Data**"
      ],
      "metadata": {
        "id": "Ui04qO3XtceQ"
      }
    },
    {
      "cell_type": "code",
      "execution_count": null,
      "metadata": {
        "id": "obtp6ZhsN56M"
      },
      "outputs": [],
      "source": [
        "X = np.load(\"/content/drive/MyDrive/Stem Proyectp/Project/DataStorage/set4_features.npy\")\n",
        "y = np.load(\"/content/drive/MyDrive/Stem Proyectp/Project/DataStorage/set4_labels.npy\")"
      ]
    },
    {
      "cell_type": "code",
      "source": [
        "X2 = np.load(\"/content/drive/MyDrive/Stem Proyectp/Project/DataStorage/set2_features.npy\")\n",
        "y2 = np.load(\"/content/drive/MyDrive/Stem Proyectp/Project/DataStorage/set2_labels.npy\")\n",
        "\n",
        "X_train2, X_rem2, y_train2, y_rem2 = train_test_split(X2, y2, test_size = 0.3, random_state = 17)\n",
        "X_test2, X_valid2, y_test2, y_valid2 = train_test_split(X_rem2, y_rem2, test_size = 0.5, random_state = 9)"
      ],
      "metadata": {
        "id": "YNmm5lSIT9MP"
      },
      "execution_count": null,
      "outputs": []
    },
    {
      "cell_type": "code",
      "execution_count": null,
      "metadata": {
        "id": "BovnsFZNOJjW",
        "colab": {
          "base_uri": "https://localhost:8080/"
        },
        "outputId": "751bdbf7-69e7-4324-d2b8-930ba922869f"
      },
      "outputs": [
        {
          "output_type": "stream",
          "name": "stdout",
          "text": [
            "(154, 256, 256, 1)\n",
            "(1025,)\n"
          ]
        }
      ],
      "source": [
        "print(X_test2.shape)\n",
        "print(y.shape)"
      ]
    },
    {
      "cell_type": "code",
      "execution_count": null,
      "metadata": {
        "id": "AjlP-SLrOMOk"
      },
      "outputs": [],
      "source": [
        "# 70/15/15 train/test/valid split\n",
        "X_train, X_rem, y_train, y_rem = train_test_split(X, y, test_size = 0.3, random_state = 17)\n",
        "X_test, X_valid, y_test, y_valid = train_test_split(X_rem, y_rem, test_size = 0.5, random_state = 9)"
      ]
    },
    {
      "cell_type": "markdown",
      "source": [
        "# **Creating Model Architecture and Functions**"
      ],
      "metadata": {
        "id": "TB8-gdSZt4rM"
      }
    },
    {
      "cell_type": "markdown",
      "source": [
        "**Creating Function for Future Model Testing**"
      ],
      "metadata": {
        "id": "a52sAPwotoUU"
      }
    },
    {
      "cell_type": "code",
      "source": [
        "def testModel(test_images, test_labels):\n",
        "  correct = 0\n",
        "\n",
        "  outputs = []\n",
        "  spec_acc = []\n",
        "  total = len(test_images)\n",
        "\n",
        "  hem_total = 0\n",
        "  isch_total = 0\n",
        "  norm_total = 0\n",
        "\n",
        "  hem = 0\n",
        "  isch = 0\n",
        "  norm = 0\n",
        "\n",
        "  false_hem = 0\n",
        "  false_isch = 0\n",
        "  false_norm = 0\n",
        "\n",
        "  predictions = model.predict(test_images)\n",
        "  \n",
        "  for i in range(0, len(test_images)):\n",
        "    predictions_list = list(predictions[i])\n",
        "\n",
        "    maximum = max(predictions_list)\n",
        "    prediction = predictions_list.index(maximum)\n",
        "\n",
        "    if prediction == test_labels[i]:\n",
        "      correct += 1\n",
        "\n",
        "    if prediction == 0:\n",
        "      outputs.append(1 - maximum)\n",
        "    \n",
        "    else:\n",
        "      outputs.append(prediction)\n",
        "\n",
        "    if test_labels[i] == 0:\n",
        "      norm_total += 1\n",
        "      if prediction == 0:\n",
        "        norm += 1\n",
        "\n",
        "    elif test_labels[i] == 1:\n",
        "      hem_total += 1\n",
        "      if prediction == 1:\n",
        "        hem += 1\n",
        "\n",
        "    elif test_labels[i] == 2:\n",
        "      isch_total += 1\n",
        "      if  prediction == 2:\n",
        "        isch += 1\n",
        "\n",
        "    if prediction == 0 and test_labels[i] != 0:\n",
        "      false_norm += 1\n",
        "    elif prediction == 1 and test_labels[i] != 1:\n",
        "      false_hem += 1\n",
        "    elif prediction == 2 and test_labels[i] != 2:\n",
        "      false_isch += 1\n",
        "\n",
        "  accuracy = float(correct) / total\n",
        "\n",
        "  spec_acc.append(float(norm)/norm_total)\n",
        "  spec_acc.append(float(hem)/hem_total)\n",
        "  spec_acc.append(float(isch)/isch_total)\n",
        "\n",
        "  spec_acc.append([false_norm, false_hem, false_isch])\n",
        "\n",
        "  return accuracy, outputs, spec_acc"
      ],
      "metadata": {
        "id": "HWZ2f9HMTw2a"
      },
      "execution_count": null,
      "outputs": []
    },
    {
      "cell_type": "markdown",
      "source": [
        "**Creating model architecture using Tensorflow backend**"
      ],
      "metadata": {
        "id": "QkzBCvnGuB1W"
      }
    },
    {
      "cell_type": "code",
      "execution_count": null,
      "metadata": {
        "id": "KQCuxSIYON7n"
      },
      "outputs": [],
      "source": [
        "class BuildModel:\n",
        "  def layer1(model):\n",
        "    model.add(Conv2D(32, (9, 9), activation='relu', input_shape=X.shape[1:]))\n",
        "    model.add(MaxPooling2D(pool_size=(3, 3)))\n",
        "\n",
        "  def convLayer(model):\n",
        "    model.add(Conv2D(128, (3, 3), activation = 'relu'))\n",
        "    model.add(MaxPooling2D(pool_size=(2, 2)))\n",
        "\n",
        "  def convLayer2(model):\n",
        "    model.add(Conv2D(64, (7, 7), activation = 'relu'))\n",
        "    model.add(MaxPooling2D(pool_size= (3, 3)))\n",
        "\n",
        "  def denseLayer(model):\n",
        "    model.add(Flatten())\n",
        "    model.add(Dense(64, activation = 'relu'))\n",
        "    model.add(Dropout(0.5))\n",
        "    model.add(Dense(3, activation = 'softmax'))"
      ]
    },
    {
      "cell_type": "code",
      "execution_count": null,
      "metadata": {
        "id": "RPvblJVQOWuS"
      },
      "outputs": [],
      "source": [
        "model = Sequential()\n",
        "\n",
        "BuildModel.layer1(model)\n",
        "BuildModel.convLayer2(model)\n",
        "BuildModel.convLayer2(model)\n",
        "BuildModel.convLayer(model)\n",
        "BuildModel.denseLayer(model)"
      ]
    },
    {
      "cell_type": "code",
      "execution_count": null,
      "metadata": {
        "id": "iWUf_d2FOX7Y"
      },
      "outputs": [],
      "source": [
        "model.compile(loss = 'sparse_categorical_crossentropy', \n",
        "              optimizer = 'adam',\n",
        "              metrics = ['accuracy'])"
      ]
    },
    {
      "cell_type": "markdown",
      "source": [
        "# **Model Training and Testing**"
      ],
      "metadata": {
        "id": "__hwqqbvuIxi"
      }
    },
    {
      "cell_type": "code",
      "execution_count": null,
      "metadata": {
        "colab": {
          "base_uri": "https://localhost:8080/"
        },
        "id": "KUctsi9BOZmh",
        "outputId": "2bc4ffde-03ec-463d-c4ec-4b10325af2b5"
      },
      "outputs": [
        {
          "output_type": "stream",
          "name": "stdout",
          "text": [
            "Epoch 1/20\n",
            "23/23 [==============================] - 4s 146ms/step - loss: 0.9276 - accuracy: 0.5844 - val_loss: 0.7057 - val_accuracy: 0.7208\n",
            "Epoch 2/20\n",
            "23/23 [==============================] - 3s 135ms/step - loss: 0.6413 - accuracy: 0.7001 - val_loss: 0.6109 - val_accuracy: 0.7208\n",
            "Epoch 3/20\n",
            "23/23 [==============================] - 3s 135ms/step - loss: 0.5754 - accuracy: 0.7294 - val_loss: 0.5417 - val_accuracy: 0.7597\n",
            "Epoch 4/20\n",
            "23/23 [==============================] - 3s 135ms/step - loss: 0.5308 - accuracy: 0.7601 - val_loss: 0.5229 - val_accuracy: 0.7403\n",
            "Epoch 5/20\n",
            "23/23 [==============================] - 3s 136ms/step - loss: 0.4981 - accuracy: 0.7643 - val_loss: 0.5081 - val_accuracy: 0.7532\n",
            "Epoch 6/20\n",
            "23/23 [==============================] - 3s 134ms/step - loss: 0.4479 - accuracy: 0.8020 - val_loss: 0.4703 - val_accuracy: 0.7922\n",
            "Epoch 7/20\n",
            "23/23 [==============================] - 3s 134ms/step - loss: 0.4471 - accuracy: 0.7992 - val_loss: 0.4787 - val_accuracy: 0.7727\n",
            "Epoch 8/20\n",
            "23/23 [==============================] - 3s 135ms/step - loss: 0.4220 - accuracy: 0.7992 - val_loss: 0.4221 - val_accuracy: 0.7792\n",
            "Epoch 9/20\n",
            "23/23 [==============================] - 3s 141ms/step - loss: 0.3779 - accuracy: 0.8298 - val_loss: 0.3666 - val_accuracy: 0.8117\n",
            "Epoch 10/20\n",
            "23/23 [==============================] - 3s 135ms/step - loss: 0.3393 - accuracy: 0.8382 - val_loss: 0.3439 - val_accuracy: 0.7857\n",
            "Epoch 11/20\n",
            "23/23 [==============================] - 3s 135ms/step - loss: 0.2878 - accuracy: 0.8508 - val_loss: 0.2943 - val_accuracy: 0.8312\n",
            "Epoch 12/20\n",
            "23/23 [==============================] - 3s 135ms/step - loss: 0.2754 - accuracy: 0.8591 - val_loss: 0.3083 - val_accuracy: 0.8247\n",
            "Epoch 13/20\n",
            "23/23 [==============================] - 3s 136ms/step - loss: 0.2509 - accuracy: 0.8912 - val_loss: 0.3106 - val_accuracy: 0.8377\n",
            "Epoch 14/20\n",
            "23/23 [==============================] - 3s 135ms/step - loss: 0.2112 - accuracy: 0.8954 - val_loss: 0.2417 - val_accuracy: 0.8831\n",
            "Epoch 15/20\n",
            "23/23 [==============================] - 3s 136ms/step - loss: 0.2138 - accuracy: 0.9010 - val_loss: 0.3295 - val_accuracy: 0.8506\n",
            "Epoch 16/20\n",
            "23/23 [==============================] - 3s 135ms/step - loss: 0.2710 - accuracy: 0.8591 - val_loss: 0.2284 - val_accuracy: 0.8896\n",
            "Epoch 17/20\n",
            "23/23 [==============================] - 3s 135ms/step - loss: 0.2016 - accuracy: 0.9038 - val_loss: 0.2263 - val_accuracy: 0.8766\n",
            "Epoch 18/20\n",
            "23/23 [==============================] - 3s 135ms/step - loss: 0.1625 - accuracy: 0.9289 - val_loss: 0.2442 - val_accuracy: 0.8896\n",
            "Epoch 19/20\n",
            "23/23 [==============================] - 3s 134ms/step - loss: 0.1653 - accuracy: 0.9275 - val_loss: 0.2560 - val_accuracy: 0.8766\n",
            "Epoch 20/20\n",
            "23/23 [==============================] - 3s 135ms/step - loss: 0.1414 - accuracy: 0.9400 - val_loss: 0.2461 - val_accuracy: 0.9026\n"
          ]
        }
      ],
      "source": [
        "training = model.fit(X_train, y_train, batch_size = 32, epochs = 20, validation_data= (X_valid, y_valid))"
      ]
    },
    {
      "cell_type": "code",
      "execution_count": null,
      "metadata": {
        "id": "3c0zHUeWOdHr",
        "colab": {
          "base_uri": "https://localhost:8080/"
        },
        "outputId": "11198f9a-88fa-4571-f225-d0f9ebbe33c1"
      },
      "outputs": [
        {
          "output_type": "stream",
          "name": "stdout",
          "text": [
            "5/5 [==============================] - 0s 44ms/step - loss: 0.1404 - accuracy: 0.9545\n"
          ]
        },
        {
          "output_type": "execute_result",
          "data": {
            "text/plain": [
              "[0.14036233723163605, 0.9545454382896423]"
            ]
          },
          "metadata": {},
          "execution_count": 27
        }
      ],
      "source": [
        "model.evaluate(X_test2, y_test2)"
      ]
    },
    {
      "cell_type": "code",
      "source": [
        "accuracy, outputs, spec_acc = testModel(X_test2, y_test2)\n",
        "print(accuracy)\n",
        "print(outputs)\n",
        "print(spec_acc)"
      ],
      "metadata": {
        "colab": {
          "base_uri": "https://localhost:8080/"
        },
        "id": "Vi5FhPC1T7uD",
        "outputId": "3154ae39-1b10-4623-d928-59a27326db85"
      },
      "execution_count": null,
      "outputs": [
        {
          "output_type": "stream",
          "name": "stdout",
          "text": [
            "0.961038961038961\n",
            "[1, 1, 0.010388374328613281, 0.00021761655807495117, 2, 1, 0.011741161346435547, 2, 1, 1, 1, 0.12493228912353516, 1, 2, 1, 1, 9.965896606445312e-05, 2, 2, 1, 2, 1, 0.2784339189529419, 0.0734589695930481, 0.01918131113052368, 0.019627630710601807, 0.0001157522201538086, 2, 1, 1, 1, 1, 1, 0.027247726917266846, 1, 1, 0.038891613483428955, 1, 0.03208285570144653, 0.005559146404266357, 0.0014318227767944336, 2, 0.009739458560943604, 1, 0.009364306926727295, 1, 1, 1, 1, 0.17901164293289185, 0.02800619602203369, 2, 1, 1, 2, 0.0020899176597595215, 1, 1, 2, 2, 0.1280786395072937, 2, 2, 2, 1, 2, 1, 2, 0.0017345547676086426, 0.018055081367492676, 2, 1, 0.07050293684005737, 1, 2, 1, 1, 0.04109865427017212, 1, 2, 2, 1, 1, 2, 0.048080384731292725, 0.014384150505065918, 2, 1, 1, 1, 2, 2, 2, 2, 1, 2, 2, 1, 1, 1, 2, 0.00018471479415893555, 2, 2, 2, 1, 1, 1, 0.0007735490798950195, 1, 1, 1, 1, 1, 1, 1, 2, 0.0001944899559020996, 1, 0.028689563274383545, 2, 0.27807003259658813, 0.002270996570587158, 2, 1, 1, 0.019926607608795166, 1, 2, 1, 1, 0.0019016861915588379, 1, 0.0072931647300720215, 1, 0.015075147151947021, 2, 0.0003401041030883789, 1, 1, 1, 2, 1, 1, 1, 1, 1, 1, 1, 1, 0.0018677115440368652, 0.02322697639465332, 0.0013369321823120117, 0.0016188621520996094]\n",
            "[1.0, 0.958904109589041, 0.9285714285714286, [3, 3, 0]]\n"
          ]
        }
      ]
    },
    {
      "cell_type": "code",
      "execution_count": null,
      "metadata": {
        "id": "mvNIFa33Okrl",
        "colab": {
          "base_uri": "https://localhost:8080/",
          "height": 295
        },
        "outputId": "25c1e243-cb14-45d9-954a-f59c33968a51"
      },
      "outputs": [
        {
          "output_type": "display_data",
          "data": {
            "image/png": "[encoded data removed]",
            "text/plain": [
              "<Figure size 432x288 with 1 Axes>"
            ]
          },
          "metadata": {
            "needs_background": "light"
          }
        }
      ],
      "source": [
        "plt.plot(training.history['accuracy'])\n",
        "plt.plot(training.history['val_accuracy'])\n",
        "plt.title(\"Training and Validation Accuracy\")\n",
        "plt.ylabel(\"Accuracy (%)\")\n",
        "plt.xlabel(\"Epoch\")\n",
        "plt.legend(['Train','Validation'], loc = 'lower right')\n",
        "plt.show()"
      ]
    },
    {
      "cell_type": "code",
      "execution_count": null,
      "metadata": {
        "id": "pVReDmShO-N7",
        "colab": {
          "base_uri": "https://localhost:8080/",
          "height": 295
        },
        "outputId": "58567d25-6269-46e2-cd85-4a2effbed121"
      },
      "outputs": [
        {
          "output_type": "display_data",
          "data": {
            "image/png": "[encoded data removed]",
            "text/plain": [
              "<Figure size 432x288 with 1 Axes>"
            ]
          },
          "metadata": {
            "needs_background": "light"
          }
        }
      ],
      "source": [
        "plt.plot(training.history['loss'])\n",
        "plt.plot(training.history['val_loss'])\n",
        "plt.title(\"Training and Validation Loss\")\n",
        "plt.ylabel(\"Loss\")\n",
        "plt.xlabel(\"Epoch\")\n",
        "plt.legend(['Train', 'Validation'], loc = 'lower left')\n",
        "plt.show()"
      ]
    },
    {
      "cell_type": "code",
      "execution_count": null,
      "metadata": {
        "id": "tZ4EclsgPCHR",
        "colab": {
          "base_uri": "https://localhost:8080/"
        },
        "outputId": "b7d1dace-93db-41e2-c804-9584d51665f8"
      },
      "outputs": [
        {
          "output_type": "stream",
          "name": "stdout",
          "text": [
            "Model: \"sequential_23\"\n",
            "_________________________________________________________________\n",
            " Layer (type)                Output Shape              Param #   \n",
            "=================================================================\n",
            " conv2d_92 (Conv2D)          (None, 248, 248, 32)      2624      \n",
            "                                                                 \n",
            " max_pooling2d_91 (MaxPoolin  (None, 82, 82, 32)       0         \n",
            " g2D)                                                            \n",
            "                                                                 \n",
            " conv2d_93 (Conv2D)          (None, 76, 76, 64)        100416    \n",
            "                                                                 \n",
            " max_pooling2d_92 (MaxPoolin  (None, 25, 25, 64)       0         \n",
            " g2D)                                                            \n",
            "                                                                 \n",
            " conv2d_94 (Conv2D)          (None, 19, 19, 64)        200768    \n",
            "                                                                 \n",
            " max_pooling2d_93 (MaxPoolin  (None, 6, 6, 64)         0         \n",
            " g2D)                                                            \n",
            "                                                                 \n",
            " conv2d_95 (Conv2D)          (None, 4, 4, 128)         73856     \n",
            "                                                                 \n",
            " max_pooling2d_94 (MaxPoolin  (None, 2, 2, 128)        0         \n",
            " g2D)                                                            \n",
            "                                                                 \n",
            " flatten_23 (Flatten)        (None, 512)               0         \n",
            "                                                                 \n",
            " dense_46 (Dense)            (None, 64)                32832     \n",
            "                                                                 \n",
            " dropout_23 (Dropout)        (None, 64)                0         \n",
            "                                                                 \n",
            " dense_47 (Dense)            (None, 3)                 195       \n",
            "                                                                 \n",
            "=================================================================\n",
            "Total params: 410,691\n",
            "Trainable params: 410,691\n",
            "Non-trainable params: 0\n",
            "_________________________________________________________________\n"
          ]
        }
      ],
      "source": [
        "model.summary()"
      ]
    },
    {
      "cell_type": "code",
      "execution_count": null,
      "metadata": {
        "id": "ZWf2ji-SPGO5",
        "colab": {
          "base_uri": "https://localhost:8080/"
        },
        "outputId": "bf2f0e5a-e07e-44a9-a960-4ab94d7c458e"
      },
      "outputs": [
        {
          "output_type": "stream",
          "name": "stdout",
          "text": [
            "INFO:tensorflow:Assets written to: /content/drive/MyDrive/Stem Proyectp/Project/Models/model_6/assets\n"
          ]
        }
      ],
      "source": [
        "model.save(\"/content/drive/MyDrive/Stem Proyectp/Project/Models/model_6\")"
      ]
    }
  ],
  "metadata": {
    "accelerator": "GPU",
    "colab": {
      "name": "ConvNet_5_0",
      "provenance": [],
      "authorship_tag": "ABX9TyNaTchFuVckJCJRuCFqRgAp"
    },
    "kernelspec": {
      "display_name": "Python 3",
      "name": "python3"
    },
    "language_info": {
      "name": "python"
    }
  },
  "nbformat": 4,
  "nbformat_minor": 0
}